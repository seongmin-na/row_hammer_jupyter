{
 "cells": [
  {
   "cell_type": "code",
   "execution_count": 202,
   "metadata": {},
   "outputs": [],
   "source": [
    "import pandas as pd\n",
    "import subprocess\n",
    "import math\n",
    "import numpy as np\n",
    "import sys\n",
    "import matplotlib as mpl\n",
    "import matplotlib.pyplot as plt\n",
    "\n",
    "from IPython.display import display\n",
    "pd.set_option('display.max_columns', 500)\n",
    "pd.set_option('display.max_rows', 1000)"
   ]
  },
  {
   "cell_type": "code",
   "execution_count": 203,
   "metadata": {},
   "outputs": [
    {
     "name": "stdout",
     "output_type": "stream",
     "text": [
      "{'low': '/home/nasm716/row_hammer/row_hammer_data/low/threshold_data.txt', '25': '/home/nasm716/row_hammer/row_hammer_data/25/threshold_data.txt', '15': '/home/nasm716/row_hammer/row_hammer_data/15/threshold_data.txt', 'm75': '/home/nasm716/row_hammer/row_hammer_data/m75/threshold_data.txt', 'm15': '/home/nasm716/row_hammer/row_hammer_data/m15/threshold_data.txt'}\n"
     ]
    }
   ],
   "source": [
    "DATA_DIR = \"/home/nasm716/row_hammer/row_hammer_data/\"\n",
    "DATA_DIR = \"/home/nasm716/row_hammer/row_hammer_data/\"\n",
    "temp_list=[\"m75\",\"low\",\"m15\",\"15\",\"25\"]\n",
    "pre_data_dict=dict()\n",
    "for temp in temp_list:\n",
    "    data=DATA_DIR+temp+\"/threshold_data.txt\"\n",
    "    pre_data_dict[temp]=data\n",
    "print(pre_data_dict)    \n",
    "# ION_LIN_SP = HYNIX_LIB_DIR + \"ion_lin.sp\"\n",
    "# ION_SAT_SP = HYNIX_LIB_DIR + \"ion_sat.sp\"\n",
    "# U0_SP = HYNIX_LIB_DIR + \"u0_extraction.sp\"\n",
    "# UEFF_SP = HYNIX_LIB_DIR + \"ueff_extraction.sp\" \n",
    "# VSAT_SP = HYNIX_LIB_DIR + \"vsat_extraction.sp\"\n",
    "# ION_RATIO_SP=HYNIX_LIB_DIR + \"ion_ratio.sp\"`"
   ]
  },
  {
   "cell_type": "code",
   "execution_count": 204,
   "metadata": {},
   "outputs": [],
   "source": [
    "def failure_bit(data):\n",
    "    f = open(data, 'r')\n",
    "    failure_bit=dict()\n",
    "    addr_list=list()\n",
    "    retention_time=0\n",
    "\n",
    "    for line in f:\n",
    "        \n",
    "        line=line.split(\" \")    \n",
    "        if len(line)>1 and line[1]==\"attack\":\n",
    "            if retention_time==0:\n",
    "                retention_time=int(int(line[0],16)/1000)\n",
    "            else:\n",
    "                failure_bit[retention_time]=addr_list\n",
    "                retention_time=int(int(line[0],16)/1000)\n",
    "                addr_list=[]\n",
    "        elif len(line)==3:\n",
    "            bit_addr=int(line[0],16)*64+int(line[1],16)\n",
    "            addr_list.append(bit_addr)\n",
    "#     failure_bit[retention_time]=addr_list\n",
    "#     count_bits(failure_bit)\n",
    "    f.close()\n",
    "    return failure_bit\n"
   ]
  },
  {
   "cell_type": "code",
   "execution_count": 205,
   "metadata": {},
   "outputs": [],
   "source": [
    "def count_bits(failure_bit,temp):\n",
    "    if(temp==\"low\"):\n",
    "        temp=-25\n",
    "    elif(temp==\"m15\"):\n",
    "        temp=-15\n",
    "    elif(temp==\"m75\"):\n",
    "        temp=-75\n",
    "    else:\n",
    "        temp=int(temp)\n",
    "    count_data=pd.DataFrame(columns=[\"th\",temp])\n",
    "    th_list=list(failure_bit.keys())\n",
    "    th_list.sort()\n",
    "    for th in th_list:\n",
    "         count_data=count_data.append({\"th\":th,temp:len(failure_bit[th])},ignore_index=True)\n",
    "         count_data['th'] = pd.to_numeric(count_data['th'])\n",
    "         count_data[temp] = pd.to_numeric(count_data[temp])\n",
    "    #count_data=count_data.T\n",
    "    return count_data"
   ]
  },
  {
   "cell_type": "code",
   "execution_count": 206,
   "metadata": {},
   "outputs": [],
   "source": [
    "def classify_failure_bits(failure_bit):\n",
    "    classify_failure_bits=pd.DataFrame()\n",
    "    time_list=list(failure_bit.keys())\n",
    "    time_list.sort()\n",
    "    idx=0\n",
    "    past_key=0\n",
    "    num_classify_data=0\n",
    "    failed_cell=list()\n",
    "    \n",
    "    for retention_time in time_list:\n",
    "#        print(retention_time ,\":\")\n",
    "        idx=0\n",
    "        unique=0\n",
    "        non_repeat=0\n",
    "        repeat=0\n",
    "        num_failed_cell=len(failed_cell)\n",
    "        for current_fail_addr in failure_bit[retention_time]:\n",
    "            while(idx<len(failed_cell) and failed_cell[idx]<current_fail_addr):\n",
    "                    idx=idx+1\n",
    "            if(idx<len(failed_cell) and failed_cell[idx]==current_fail_addr):\n",
    "                repeat=repeat+1\n",
    "            else:\n",
    "                unique=unique+1\n",
    "                failed_cell.append(current_fail_addr)\n",
    "        failed_cell.sort()\n",
    "        non_repeat=len(failed_cell)-repeat-unique\n",
    "        classify_failure_bits[retention_time]=[repeat,non_repeat,unique]\n",
    "    \n",
    "#         display(failed_cell)\n",
    "#         print(\"repeat :\", repeat)\n",
    "#         print(\"non_repeat:\", non_repeat) #non_repeat=total_cell-repeat-unique\n",
    "#         print(\"unique:\" ,unique)\n",
    "    classify_failure_bits=classify_failure_bits.T\n",
    "    classify_failure_bits=classify_failure_bits.rename(columns={0:'repeat',1:\"non_repeat\",2:\"unique\"});\n",
    "    return classify_failure_bits "
   ]
  },
  {
   "cell_type": "code",
   "execution_count": null,
   "metadata": {},
   "outputs": [],
   "source": []
  },
  {
   "cell_type": "code",
   "execution_count": 207,
   "metadata": {},
   "outputs": [],
   "source": [
    "def graph(data):\n",
    "    data.plot.bar(title=\"Row-Hammer Threshold\",x=\"th\")\n",
    "    plt.xlabel(\"RHth(K)\")\n",
    "    plt.ylabel(\"# of fliped_bit\")"
   ]
  },
  {
   "cell_type": "code",
   "execution_count": 216,
   "metadata": {},
   "outputs": [
    {
     "data": {
      "text/plain": [
       "Text(0, 0.5, 'RH_th')"
      ]
     },
     "execution_count": 216,
     "metadata": {},
     "output_type": "execute_result"
    },
    {
     "data": {
      "image/png": "[encoded data removed]",
      "text/plain": [
       "<Figure size 432x288 with 1 Axes>"
      ]
     },
     "metadata": {
      "needs_background": "light"
     },
     "output_type": "display_data"
    }
   ],
   "source": [
    "data=pd.DataFrame({\"temp\":[25,15,-15,-25,-75],\"min_RH_th\":[300,400,400,400,600]})\n",
    "data.plot(kind='line',title=\"Rowhammer\",x=col_list[0],y=col_list[1],c=color[index],label=col_list[1],logx=True,logy=True)\n"
   ]
  },
  {
   "cell_type": "code",
   "execution_count": 208,
   "metadata": {},
   "outputs": [
    {
     "name": "stdout",
     "output_type": "stream",
     "text": [
      "      th    -25     25     15   -75    -15\n",
      "0    200    0.0    0.0    NaN   NaN    NaN\n",
      "1    300    0.0    1.0    NaN   NaN    NaN\n",
      "2    400    1.0    4.0    1.0   0.0    1.0\n",
      "3    500   34.0   14.0    9.0   NaN    4.0\n",
      "4    600    6.0   37.0   16.0   2.0    8.0\n",
      "5    700   11.0   85.0   36.0   NaN   14.0\n",
      "6    800   20.0  143.0   65.0   4.0   22.0\n",
      "7    900   27.0  216.0  101.0   NaN   34.0\n",
      "8   1000   41.0  328.0  135.0   6.0   51.0\n",
      "9   1100   57.0  447.0  197.0   NaN   76.0\n",
      "10  1200   85.0  650.0  277.0  11.0   99.0\n",
      "11  1300  109.0  867.0  369.0   NaN  133.0\n",
      "12  1400    NaN    NaN  473.0   NaN  184.0\n",
      "13  1500    NaN    NaN    NaN   NaN  225.0\n"
     ]
    },
    {
     "data": {
      "image/png": "[encoded data removed]",
      "text/plain": [
       "<Figure size 432x288 with 1 Axes>"
      ]
     },
     "metadata": {
      "needs_background": "light"
     },
     "output_type": "display_data"
    }
   ],
   "source": [
    "result_list=[]\n",
    "partial_result=pd.DataFrame()\n",
    "result=pd.DataFrame()\n",
    "for i,(key, val) in enumerate(pre_data_dict.items()):\n",
    "    partial_result=(count_bits(failure_bit(val),key))\n",
    "    result_list.append(partial_result)\n",
    "    if(i==0):\n",
    "        result=partial_result\n",
    "    else:\n",
    "        result= pd.merge(result, partial_result, on='th',how='outer')\n",
    "print(result)\n",
    "result=result[[result.columns[0]] + sorted([col for col in result if col != result.columns[0]])]\n",
    "graph(result)\n",
    "# data1=count_bits(failure_bit(DATA1))\n",
    "# data2=count_bits(failure_bit(DATA2))\n",
    "# data=pd.DataFrame\n",
    "# data=pd.concat([data1,data2],axis=1)\n",
    "# data=data.dropna()\n",
    "# data.columns=[\"260K\",\"300K\"]\n",
    "# graph(data)"
   ]
  },
  {
   "cell_type": "code",
   "execution_count": 209,
   "metadata": {},
   "outputs": [
    {
     "ename": "NameError",
     "evalue": "name 'DATA2' is not defined",
     "output_type": "error",
     "traceback": [
      "\u001b[0;31m---------------------------------------------------------------------------\u001b[0m",
      "\u001b[0;31mNameError\u001b[0m                                 Traceback (most recent call last)",
      "\u001b[0;32m<ipython-input-209-43e018329ece>\u001b[0m in \u001b[0;36m<module>\u001b[0;34m\u001b[0m\n\u001b[0;32m----> 1\u001b[0;31m \u001b[0mf\u001b[0m \u001b[0;34m=\u001b[0m \u001b[0mopen\u001b[0m\u001b[0;34m(\u001b[0m\u001b[0mDATA2\u001b[0m\u001b[0;34m,\u001b[0m \u001b[0;34m'r'\u001b[0m\u001b[0;34m)\u001b[0m\u001b[0;34m\u001b[0m\u001b[0m\n\u001b[0m\u001b[1;32m      2\u001b[0m \u001b[0mfailure_bit\u001b[0m\u001b[0;34m=\u001b[0m\u001b[0mdict\u001b[0m\u001b[0;34m(\u001b[0m\u001b[0;34m)\u001b[0m\u001b[0;34m\u001b[0m\u001b[0m\n\u001b[1;32m      3\u001b[0m \u001b[0maddr_list\u001b[0m\u001b[0;34m=\u001b[0m\u001b[0mlist\u001b[0m\u001b[0;34m(\u001b[0m\u001b[0;34m)\u001b[0m\u001b[0;34m\u001b[0m\u001b[0m\n\u001b[1;32m      4\u001b[0m \u001b[0mretention_time\u001b[0m\u001b[0;34m=\u001b[0m\u001b[0;36m0\u001b[0m\u001b[0;34m\u001b[0m\u001b[0m\n\u001b[1;32m      5\u001b[0m \u001b[0;34m\u001b[0m\u001b[0m\n",
      "\u001b[0;31mNameError\u001b[0m: name 'DATA2' is not defined"
     ]
    }
   ],
   "source": [
    "f = open(DATA2, 'r')\n",
    "failure_bit=dict()\n",
    "addr_list=list()\n",
    "retention_time=0\n",
    "\n",
    "for line in f:\n",
    "    line=line.split(\" \")\n",
    "    if len(line)==1: #end of file    \n",
    "        if(line[0]==\"end\"):\n",
    "            failure_bit[retention_time]=addr_list\n",
    "            break\n",
    "        else:\n",
    "            continue\n",
    "    elif line[1]==\":\":\n",
    "        if retention_time==0:\n",
    "            retention_time=int(float(line[0]))\n",
    "        else:\n",
    "            failure_bit[retention_time]=addr_list\n",
    "            retention_time=int(float(line[0]))\n",
    "            addr_list=[]\n",
    "    else:\n",
    "#         print(line[0])\n",
    "        bit_addr=int(float(line[0]))*64+int(float(line[1]))\n",
    "        addr_list.append(bit_addr)\n",
    "#count_bits(failure_bit)\n",
    "failure_bit2=failure_bit\n",
    "classify_data2=classify_failure_bits(failure_bit)\n",
    "classify_data.plot\n",
    "display(failure_bit)\n",
    "f.close()"
   ]
  },
  {
   "cell_type": "code",
   "execution_count": null,
   "metadata": {},
   "outputs": [],
   "source": [
    "def compare_failure_bits(failure_bit1,failure_bit2):\n",
    "    classify_failure_bits=pd.DataFrame()\n",
    "    time_list=list(failure_bit.keys())\n",
    "    time_list.sort()\n",
    "    idx=0\n",
    "    past_key=0\n",
    "    num_classify_data=0\n",
    "    failed_cell1=list()\n",
    "    \n",
    "    for retention_time in time_list:\n",
    "#        print(retention_time ,\":\")\n",
    "        idx=0\n",
    "        unique=0\n",
    "        non_repeat=0\n",
    "        repeat=0\n",
    "        num_failed_cell=len(failed_cell)\n",
    "        for current_fail_addr in failure_bit1[retention_time]:\n",
    "            while(idx<len(failed_cell1) and failed_cell1[idx]<current_fail_addr):\n",
    "                    idx=idx+1\n",
    "            if(idx<len(failed_cell1) and failed_cell1[idx]==current_fail_addr):\n",
    "                repeat=repeat+1\n",
    "            else:\n",
    "                unique=unique+1\n",
    "                failed_cell1.append(current_fail_addr)\n",
    "        failed_cell1.sort()\n",
    "        non_repeat=len(failed_cell)-repeat-unique\n",
    "        \n",
    "        idx=0\n",
    "        unique=0\n",
    "        non_repeat=0\n",
    "        repeat=0\n",
    "        num_failed_cell=len(failed_cell)\n",
    "        for current_fail_addr in failure_bit2[retention_time]:\n",
    "            while(idx<len(failed_cell2) and failed_cell2[idx]<current_fail_addr):\n",
    "                    idx=idx+1\n",
    "            if(idx<len(failed_cell2) and failed_cell2[idx]==current_fail_addr):\n",
    "                repeat=repeat+1\n",
    "            else:\n",
    "                unique=unique+1\n",
    "                failed_cell2.append(current_fail_addr)\n",
    "        failed_cell2.sort()\n",
    "        non_repeat=len(failed_cell2)-repeat-unique\n",
    "        \n",
    "        classify_failure_bits[retention_time]=[repeat,non_repeat,unique]\n",
    "    \n",
    "#         display(failed_cell)\n",
    "#         print(\"repeat :\", repeat)\n",
    "#         print(\"non_repeat:\", non_repeat) #non_repeat=total_cell-repeat-unique\n",
    "#         print(\"unique:\" ,unique)\n",
    "    classify_failure_bits=classify_failure_bits.T\n",
    "    classify_failure_bits=classify_failure_bits.rename(columns={0:'repeat',1:\"non_repeat\",2:\"unique\"});\n",
    "    return classify_failure_bits "
   ]
  },
  {
   "cell_type": "code",
   "execution_count": null,
   "metadata": {},
   "outputs": [],
   "source": [
    "compare_failure_bits(failure_bit1,failure_bit2)"
   ]
  },
  {
   "cell_type": "code",
   "execution_count": null,
   "metadata": {},
   "outputs": [],
   "source": []
  },
  {
   "cell_type": "code",
   "execution_count": null,
   "metadata": {},
   "outputs": [],
   "source": []
  },
  {
   "cell_type": "code",
   "execution_count": null,
   "metadata": {},
   "outputs": [],
   "source": []
  },
  {
   "cell_type": "code",
   "execution_count": null,
   "metadata": {},
   "outputs": [],
   "source": []
  },
  {
   "cell_type": "code",
   "execution_count": null,
   "metadata": {},
   "outputs": [],
   "source": []
  },
  {
   "cell_type": "code",
   "execution_count": null,
   "metadata": {},
   "outputs": [],
   "source": []
  },
  {
   "cell_type": "code",
   "execution_count": null,
   "metadata": {},
   "outputs": [],
   "source": []
  },
  {
   "cell_type": "code",
   "execution_count": null,
   "metadata": {},
   "outputs": [],
   "source": []
  },
  {
   "cell_type": "code",
   "execution_count": null,
   "metadata": {},
   "outputs": [],
   "source": []
  },
  {
   "cell_type": "code",
   "execution_count": null,
   "metadata": {},
   "outputs": [],
   "source": []
  },
  {
   "cell_type": "code",
   "execution_count": null,
   "metadata": {},
   "outputs": [],
   "source": []
  },
  {
   "cell_type": "code",
   "execution_count": null,
   "metadata": {},
   "outputs": [],
   "source": []
  },
  {
   "cell_type": "code",
   "execution_count": null,
   "metadata": {},
   "outputs": [],
   "source": []
  }
 ],
 "metadata": {
  "kernelspec": {
   "display_name": "Python 3",
   "language": "python",
   "name": "python3"
  },
  "language_info": {
   "codemirror_mode": {
    "name": "ipython",
    "version": 3
   },
   "file_extension": ".py",
   "mimetype": "text/x-python",
   "name": "python",
   "nbconvert_exporter": "python",
   "pygments_lexer": "ipython3",
   "version": "3.5.2"
  }
 },
 "nbformat": 4,
 "nbformat_minor": 2
}
