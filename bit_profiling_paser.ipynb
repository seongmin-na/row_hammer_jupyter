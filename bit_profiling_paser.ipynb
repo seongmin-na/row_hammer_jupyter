{
 "cells": [
  {
   "cell_type": "code",
   "execution_count": 1,
   "metadata": {},
   "outputs": [],
   "source": [
    "import pandas as pd\n",
    "import subprocess\n",
    "import math\n",
    "import numpy as np\n",
    "import sys\n",
    "import matplotlib as mpl\n",
    "import matplotlib.pyplot as plt\n",
    "\n",
    "from IPython.display import display\n",
    "pd.set_option('display.max_columns', 500)\n",
    "pd.set_option('display.max_rows', 1000)"
   ]
  },
  {
   "cell_type": "code",
   "execution_count": 2,
   "metadata": {},
   "outputs": [],
   "source": [
    "DATA_DIR = \"/home/nasm716/row_hammer/row_hammer_data/\"\n",
    "DATA1=DATA_DIR+\"25/bit_profiling_data.txt\"\n",
    "DATA1_1=DATA_DIR+\"25/bitwise_threshold.txt\"\n",
    "DATA1_2=DATA_DIR+\"25/bitwise_threshold1.txt\"\n",
    "DATA2=DATA_DIR+\"25/threshold_data.txt\"\n",
    "# ION_LIN_SP = HYNIX_LIB_DIR + \"ion_lin.sp\"\n",
    "# ION_SAT_SP = HYNIX_LIB_DIR + \"ion_sat.sp\"\n",
    "# U0_SP = HYNIX_LIB_DIR + \"u0_extraction.sp\"\n",
    "# UEFF_SP = HYNIX_LIB_DIR + \"ueff_extraction.sp\" \n",
    "# VSAT_SP = HYNIX_LIB_DIR + \"vsat_extraction.sp\"\n",
    "# ION_RATIO_SP=HYNIX_LIB_DIR + \"ion_ratio.sp\"`"
   ]
  },
  {
   "cell_type": "code",
   "execution_count": 3,
   "metadata": {},
   "outputs": [],
   "source": [
    "def profile_bit(data):\n",
    "    f = open(data, 'r')\n",
    "    failure_bit=dict()\n",
    "    addr_dict=dict()\n",
    "    retention_time=0\n",
    "    bank=0\n",
    "    for line in f:\n",
    "        line=line.rstrip(\"\\n\")\n",
    "        line=line.rstrip()\n",
    "    #     display(line)\n",
    "        line=line.split(' ')\n",
    "#         display(line)\n",
    "        if len(line)>1 and line[1]==\"attack\":\n",
    "            bank=0\n",
    "        elif line[0]==\"00000003/4\":\n",
    "            bank=bank+1\n",
    "    #         display(bank)\n",
    "        elif len(line)==3:\n",
    "            partial_address=list(map(lambda x:int(x,16),line))\n",
    "            addr=(((partial_address[0]<<13)+(bank<<10)+(partial_address[1]))<<8)+partial_address[2]\n",
    "    #         display(854<<21)\n",
    "    #         display(addr,partial_address)\n",
    "            try:\n",
    "                addr_dict[addr]=addr_dict[addr]+1\n",
    "            except KeyError:\n",
    "                addr_dict.update({addr:1})\n",
    "\n",
    "    #         if retention_time==0:\n",
    "    #             retention_time=int(int(line[0],16)/1000)\n",
    "    #         else:\n",
    "    #             failure_bit[retention_time]=addr_list\n",
    "    #             retention_time=int(int(line[0],16)/1000)\n",
    "    #             addr_list=[]\n",
    "    #     elif len(line)==3:\n",
    "    #         bit_addr=int(line[0],16)*64+int(line[1],16)\n",
    "    f.close()\n",
    "#     display(addr_dict)\n",
    "    return addr_dict\n"
   ]
  },
  {
   "cell_type": "code",
   "execution_count": 4,
   "metadata": {},
   "outputs": [],
   "source": [
    "def count_freq(data, max_count):\n",
    "    freq_list=np.zeros(max_count)\n",
    "    for _, count in bit_dict.items():\n",
    "        freq_list[count]= freq_list[count]+1\n",
    "    index=np.arange(0,max_count)\n",
    "    plt.bar(index,freq_list)\n",
    "    plt.title(\"frequency of A's appearance\", fontsize=15)\n",
    "    plt.xlabel('count', fontsize=12)\n",
    "    plt.ylabel('# of bits', fontsize=12)\n",
    "#     plt.xticks(index, label, fontsize=15)\n",
    "    plt.show()"
   ]
  },
  {
   "cell_type": "code",
   "execution_count": 5,
   "metadata": {},
   "outputs": [],
   "source": [
    "def profile_victim_row(data):\n",
    "    f = open(data, 'r')\n",
    "    failure_bit=dict()\n",
    "    addr_list=list()\n",
    "    retention_time=0\n",
    "    bank=-1\n",
    "    for line in f:\n",
    "        line=line.rstrip(\"\\n\")\n",
    "        line=line.rstrip()\n",
    "    #     display(line)\n",
    "        line=line.split(' ')\n",
    "#         display(line)\n",
    "        if len(line)>1 and line[1]==\"attack\":\n",
    "            bank=-1\n",
    "        elif line[0]==\"00000003/4\":\n",
    "            bank=bank+1\n",
    "           # display(bank)\n",
    "        elif len(line)==3:\n",
    "            partial_address=list(map(lambda x:int(x,16),line))\n",
    "            addr=(partial_address[0]<<13)+(bank<<10)+(partial_address[1])\n",
    "            if(addr_list.count(addr)==0):\n",
    "                addr_list.append(addr)\n",
    "\n",
    "    #         if retention_time==0:\n",
    "    #             retention_time=int(int(line[0],16)/1000)\n",
    "    #         else:\n",
    "    #             failure_bit[retention_time]=addr_list\n",
    "    #             retention_time=int(int(line[0],16)/1000)\n",
    "    #             addr_list=[]\n",
    "    #     elif len(line)==3:\n",
    "    #         bit_addr=int(line[0],16)*64+int(line[1],16)\n",
    "    f.close()\n",
    "#     display(addr_dict)\n",
    "    return addr_list\n"
   ]
  },
  {
   "cell_type": "code",
   "execution_count": 6,
   "metadata": {},
   "outputs": [],
   "source": [
    "def print_list2arr(list):\n",
    "    print(\"int victim_row[\",len(list) ,\"] = {\")\n",
    "    for row in list:\n",
    "        print(row,\",\", end=\" \")\n",
    "    print(\"};\")"
   ]
  },
  {
   "cell_type": "code",
   "execution_count": 7,
   "metadata": {},
   "outputs": [
    {
     "name": "stdout",
     "output_type": "stream",
     "text": [
      "int victim_row[ 130 ] = {\n",
      "6996828 , 10257007 , 16982678 , 21693348 , 38076494 , 46604834 , 52265684 , 66429909 , 67936906 , 101843354 , 123495402 , 125322092 , 9217981 , 20596352 , 39962566 , 51741843 , 60728725 , 67675390 , 85886085 , 87017093 , 91604579 , 92751648 , 97896118 , 98280501 , 100983900 , 110871865 , 122790934 , 129402072 , 7645697 , 85822034 , 11128116 , 18033871 , 21695669 , 24522119 , 33902260 , 35425369 , 44216243 , 50851402 , 56356361 , 56364752 , 65220526 , 65997835 , 67440232 , 70724963 , 76902064 , 97783447 , 100839347 , 102616764 , 106892778 , 110972053 , 116034717 , 121441857 , 126815815 , 2044685 , 14340381 , 31289678 , 43905587 , 48837284 , 70783239 , 78902080 , 83989469 , 87397085 , 89444694 , 91009170 , 93606212 , 111326093 , 113873830 , 126742710 , 1628015 , 6165905 , 14161621 , 19732149 , 25973912 , 27907911 , 46683713 , 48731374 , 65918369 , 69956933 , 72144653 , 81024373 , 82351846 , 84645589 , 87897292 , 89683169 , 97662398 , 101045453 , 101652458 , 108451235 , 127652948 , 19675266 , 21772885 , 31841208 , 39205324 , 42285822 , 69589849 , 76888113 , 79035129 , 83033038 , 83712613 , 84859674 , 107460685 , 124574648 , 3087786 , 3587722 , 6487150 , 16284991 , 16932478 , 19135527 , 25157444 , 27426427 , 29654478 , 33324140 , 35347560 , 44359513 , 50019328 , 70360529 , 72974290 , 85655519 , 91807257 , 92438497 , 98205367 , 114974024 , 120527934 , 123313908 , 130268492 , 87238032 , 131617864 , 34880251 , 113691904 , 1217818 , };\n"
     ]
    }
   ],
   "source": [
    "#bit_dict=profile_bit(DATA1)\n",
    "print_list2arr(profile_victim_row(DATA1))"
   ]
  },
  {
   "cell_type": "code",
   "execution_count": 8,
   "metadata": {},
   "outputs": [],
   "source": [
    "def bitwise_threshold(data):\n",
    "    f = open(DATA1_2, 'r')\n",
    "    threshold_dict=dict()\n",
    "    bank=-1\n",
    "    for line in f:\n",
    "        line=line.rstrip(\"\\n\")\n",
    "        line=line.rstrip()\n",
    "    #     display(line)\n",
    "        line=line.split(' ')\n",
    "    #         display(line)\n",
    "        threshold=int(line[2],16)\n",
    "        if(threshold==0x10000000):\n",
    "            threshold=-1\n",
    "        try:\n",
    "            threshold_dict[threshold]=threshold_dict[threshold]+1\n",
    "        except KeyError:\n",
    "            threshold_dict.update({threshold:1})\n",
    "#         display(threshold_dict)\n",
    "    #         if retention_time==0:\n",
    "    #             retention_time=int(int(line[0],16)/1000)\n",
    "    #         else:\n",
    "    #             failure_bit[retention_time]=addr_list\n",
    "    #             retention_time=int(int(line[0],16)/1000)\n",
    "    #             addr_list=[]\n",
    "    #     elif len(line)==3:\n",
    "    #         bit_addr=int(line[0],16)*64+int(line[1],16)\n",
    "    f.close()\n",
    "    return threshold_dict\n",
    "#     display(addr_dict)\n"
   ]
  },
  {
   "cell_type": "code",
   "execution_count": 9,
   "metadata": {},
   "outputs": [],
   "source": [
    "def print_threshold(data):\n",
    "#     for th in thredshold_list:\n",
    "#         freq_list[count]= freq_list[count]+1\n",
    "    plt.bar(index,data)\n",
    "    plt.title(\"frequency of A's appearance\", fontsize=15)\n",
    "    plt.xlabel('count', fontsize=12)\n",
    "    plt.ylabel('# of bits', fontsize=12)\n",
    "#     plt.xticks(index, label, fontsize=15)\n",
    "    plt.show()"
   ]
  },
  {
   "cell_type": "code",
   "execution_count": 11,
   "metadata": {},
   "outputs": [
    {
     "data": {
      "text/plain": [
       "{-1: 15,\n",
       " 240000: 1,\n",
       " 280000: 3,\n",
       " 300000: 2,\n",
       " 320000: 3,\n",
       " 340000: 7,\n",
       " 360000: 8,\n",
       " 380000: 8,\n",
       " 400000: 4,\n",
       " 420000: 12,\n",
       " 440000: 24,\n",
       " 460000: 15,\n",
       " 480000: 23}"
      ]
     },
     "metadata": {},
     "output_type": "display_data"
    },
    {
     "data": {
      "text/html": [
       "<div>\n",
       "<style scoped>\n",
       "    .dataframe tbody tr th:only-of-type {\n",
       "        vertical-align: middle;\n",
       "    }\n",
       "\n",
       "    .dataframe tbody tr th {\n",
       "        vertical-align: top;\n",
       "    }\n",
       "\n",
       "    .dataframe thead th {\n",
       "        text-align: right;\n",
       "    }\n",
       "</style>\n",
       "<table border=\"1\" class=\"dataframe\">\n",
       "  <thead>\n",
       "    <tr style=\"text-align: right;\">\n",
       "      <th></th>\n",
       "      <th># of failed bits</th>\n",
       "    </tr>\n",
       "  </thead>\n",
       "  <tbody>\n",
       "    <tr>\n",
       "      <th>240000</th>\n",
       "      <td>1</td>\n",
       "    </tr>\n",
       "    <tr>\n",
       "      <th>280000</th>\n",
       "      <td>3</td>\n",
       "    </tr>\n",
       "    <tr>\n",
       "      <th>300000</th>\n",
       "      <td>2</td>\n",
       "    </tr>\n",
       "    <tr>\n",
       "      <th>320000</th>\n",
       "      <td>3</td>\n",
       "    </tr>\n",
       "    <tr>\n",
       "      <th>340000</th>\n",
       "      <td>7</td>\n",
       "    </tr>\n",
       "    <tr>\n",
       "      <th>360000</th>\n",
       "      <td>8</td>\n",
       "    </tr>\n",
       "    <tr>\n",
       "      <th>380000</th>\n",
       "      <td>8</td>\n",
       "    </tr>\n",
       "    <tr>\n",
       "      <th>400000</th>\n",
       "      <td>4</td>\n",
       "    </tr>\n",
       "    <tr>\n",
       "      <th>420000</th>\n",
       "      <td>12</td>\n",
       "    </tr>\n",
       "    <tr>\n",
       "      <th>440000</th>\n",
       "      <td>24</td>\n",
       "    </tr>\n",
       "    <tr>\n",
       "      <th>460000</th>\n",
       "      <td>15</td>\n",
       "    </tr>\n",
       "    <tr>\n",
       "      <th>480000</th>\n",
       "      <td>23</td>\n",
       "    </tr>\n",
       "  </tbody>\n",
       "</table>\n",
       "</div>"
      ],
      "text/plain": [
       "        # of failed bits\n",
       "240000                 1\n",
       "280000                 3\n",
       "300000                 2\n",
       "320000                 3\n",
       "340000                 7\n",
       "360000                 8\n",
       "380000                 8\n",
       "400000                 4\n",
       "420000                12\n",
       "440000                24\n",
       "460000                15\n",
       "480000                23"
      ]
     },
     "metadata": {},
     "output_type": "display_data"
    },
    {
     "data": {
      "image/png": "[encoded data removed]",
      "text/plain": [
       "<Figure size 432x288 with 1 Axes>"
      ]
     },
     "metadata": {
      "needs_background": "light"
     },
     "output_type": "display_data"
    }
   ],
   "source": [
    "display(bitwise_threshold(DATA1_2))\n",
    "lists=bitwise_threshold(DATA1_2)\n",
    "lists.pop(-1, None)\n",
    "\n",
    "data=pd.DataFrame(lists, index = [\"# of failed bits\"]).T\n",
    "ax=data.plot.bar()\n",
    "plt.title(\"RH_Threshold\")\n",
    "plt.xlabel(\"# of attack\")\n",
    "plt.ylabel(\"# of failed bits\")\n",
    "display(data)\n",
    "# # # for python 2.x:\n",
    "# # plt.bar(range(len(D)), D.values(), align='center')  # python 2.x\n",
    "# # plt.xticks(range(len(D)), D.keys())  # in python 2.x\n",
    "\n",
    "# plt.show()"
   ]
  },
  {
   "cell_type": "code",
   "execution_count": 12,
   "metadata": {},
   "outputs": [],
   "source": [
    "def failure_bit(data):\n",
    "    f = open(data, 'r')\n",
    "    failure_bit=dict()\n",
    "    addr_list=list()\n",
    "    retention_time=0\n",
    "\n",
    "    for line in f:\n",
    "        line=line.split(\" \")    \n",
    "        if len(line)>1 and line[1]==\"attack\":\n",
    "            if retention_time==0:\n",
    "                retention_time=int(int(line[0],16)/1000)\n",
    "            else:\n",
    "                failure_bit[retention_time]=addr_list\n",
    "                retention_time=int(int(line[0],16)/1000)\n",
    "                addr_list=[]\n",
    "        elif len(line)==3:\n",
    "            bit_addr=int(line[0],16)*64+int(line[1],16)\n",
    "            addr_list.append(bit_addr)\n",
    "#     failure_bit[retention_time]=addr_list\n",
    "#     count_bits(failure_bit)\n",
    "    f.close()\n",
    "    return failure_bit\n"
   ]
  },
  {
   "cell_type": "code",
   "execution_count": 13,
   "metadata": {},
   "outputs": [],
   "source": [
    "def count_bits(failure_bit):\n",
    "    count_data=pd.DataFrame()\n",
    "    time_list=list(failure_bit.keys())\n",
    "    time_list.sort()\n",
    "    for retention_time in time_list:\n",
    "         count_data[retention_time]=[len(failure_bit[retention_time])]\n",
    "    count_data=count_data.T\n",
    "    return count_data"
   ]
  },
  {
   "cell_type": "code",
   "execution_count": 14,
   "metadata": {},
   "outputs": [],
   "source": [
    "def classify_failure_bits(failure_bit):\n",
    "    classify_failure_bits=pd.DataFrame()\n",
    "    time_list=list(failure_bit.keys())\n",
    "    time_list.sort()\n",
    "    idx=0\n",
    "    past_key=0\n",
    "    num_classify_data=0\n",
    "    failed_cell=list()\n",
    "    \n",
    "    for retention_time in time_list:\n",
    "#        print(retention_time ,\":\")\n",
    "        idx=0\n",
    "        unique=0\n",
    "        non_repeat=0\n",
    "        repeat=0\n",
    "        num_failed_cell=len(failed_cell)\n",
    "        for current_fail_addr in failure_bit[retention_time]:\n",
    "            while(idx<len(failed_cell) and failed_cell[idx]<current_fail_addr):\n",
    "                    idx=idx+1\n",
    "            if(idx<len(failed_cell) and failed_cell[idx]==current_fail_addr):\n",
    "                repeat=repeat+1\n",
    "            else:\n",
    "                unique=unique+1\n",
    "                failed_cell.append(current_fail_addr)\n",
    "        failed_cell.sort()\n",
    "        non_repeat=len(failed_cell)-repeat-unique\n",
    "        classify_failure_bits[retention_time]=[repeat,non_repeat,unique]\n",
    "    \n",
    "#         display(failed_cell)\n",
    "#         print(\"repeat :\", repeat)\n",
    "#         print(\"non_repeat:\", non_repeat) #non_repeat=total_cell-repeat-unique\n",
    "#         print(\"unique:\" ,unique)\n",
    "    classify_failure_bits=classify_failure_bits.T\n",
    "    classify_failure_bits=classify_failure_bits.rename(columns={0:'repeat',1:\"non_repeat\",2:\"unique\"});\n",
    "    return classify_failure_bits "
   ]
  },
  {
   "cell_type": "code",
   "execution_count": 15,
   "metadata": {},
   "outputs": [
    {
     "ename": "SyntaxError",
     "evalue": "invalid syntax (<ipython-input-15-042b9c982a12>, line 1)",
     "output_type": "error",
     "traceback": [
      "\u001b[0;36m  File \u001b[0;32m\"<ipython-input-15-042b9c982a12>\"\u001b[0;36m, line \u001b[0;32m1\u001b[0m\n\u001b[0;31m    def data_merge(data1,data2)\u001b[0m\n\u001b[0m                               ^\u001b[0m\n\u001b[0;31mSyntaxError\u001b[0m\u001b[0;31m:\u001b[0m invalid syntax\n"
     ]
    }
   ],
   "source": [
    "def data_merge(data1,data2)\n",
    "    data=pd.dataframe\n",
    "    cond"
   ]
  },
  {
   "cell_type": "code",
   "execution_count": 16,
   "metadata": {},
   "outputs": [],
   "source": [
    "def graph(data):\n",
    "    data.plot.bar(title=\"Row-Hammer Threshold\")\n",
    "    plt.xlabel(\"RHth(K)\")\n",
    "    plt.ylabel(\"# of fliped_bit\")"
   ]
  },
  {
   "cell_type": "code",
   "execution_count": 17,
   "metadata": {},
   "outputs": [
    {
     "data": {
      "image/png": "[encoded data removed]",
      "text/plain": [
       "<Figure size 432x288 with 1 Axes>"
      ]
     },
     "metadata": {
      "needs_background": "light"
     },
     "output_type": "display_data"
    }
   ],
   "source": [
    "data1=count_bits(failure_bit(DATA1))\n",
    "data2=count_bits(failure_bit(DATA2))\n",
    "data=pd.DataFrame\n",
    "data=pd.concat([data1,data2],axis=1)\n",
    "data=data.dropna()\n",
    "data.columns=[\"260K\",\"300K\"]\n",
    "graph(data)"
   ]
  },
  {
   "cell_type": "code",
   "execution_count": 18,
   "metadata": {},
   "outputs": [
    {
     "data": {
      "image/png": "[encoded data removed]",
      "text/plain": [
       "<Figure size 432x288 with 1 Axes>"
      ]
     },
     "metadata": {
      "needs_background": "light"
     },
     "output_type": "display_data"
    }
   ],
   "source": [
    "\n",
    "# data1=classify_failure_bits(failure_bit(DATA1))\n",
    "# data2=classify_failure_bits(failure_bit(DATA2))\n",
    "data1=count_bits(failure_bit(DATA1))\n",
    "data2=count_bits(failure_bit(DATA2))\n",
    "\n",
    "data=pd.concat([data1,data2],axis=1)\n",
    "graph(data)"
   ]
  },
  {
   "cell_type": "code",
   "execution_count": 19,
   "metadata": {},
   "outputs": [
    {
     "ename": "ValueError",
     "evalue": "could not convert string to float: '0007a120'",
     "output_type": "error",
     "traceback": [
      "\u001b[0;31m---------------------------------------------------------------------------\u001b[0m",
      "\u001b[0;31mValueError\u001b[0m                                Traceback (most recent call last)",
      "\u001b[0;32m<ipython-input-19-a2d2634404cc>\u001b[0m in \u001b[0;36m<module>\u001b[0;34m\u001b[0m\n\u001b[1;32m     21\u001b[0m     \u001b[0;32melse\u001b[0m\u001b[0;34m:\u001b[0m\u001b[0;34m\u001b[0m\u001b[0m\n\u001b[1;32m     22\u001b[0m \u001b[0;31m#         print(line[0])\u001b[0m\u001b[0;34m\u001b[0m\u001b[0;34m\u001b[0m\u001b[0m\n\u001b[0;32m---> 23\u001b[0;31m         \u001b[0mbit_addr\u001b[0m\u001b[0;34m=\u001b[0m\u001b[0mint\u001b[0m\u001b[0;34m(\u001b[0m\u001b[0mfloat\u001b[0m\u001b[0;34m(\u001b[0m\u001b[0mline\u001b[0m\u001b[0;34m[\u001b[0m\u001b[0;36m0\u001b[0m\u001b[0;34m]\u001b[0m\u001b[0;34m)\u001b[0m\u001b[0;34m)\u001b[0m\u001b[0;34m*\u001b[0m\u001b[0;36m64\u001b[0m\u001b[0;34m+\u001b[0m\u001b[0mint\u001b[0m\u001b[0;34m(\u001b[0m\u001b[0mfloat\u001b[0m\u001b[0;34m(\u001b[0m\u001b[0mline\u001b[0m\u001b[0;34m[\u001b[0m\u001b[0;36m1\u001b[0m\u001b[0;34m]\u001b[0m\u001b[0;34m)\u001b[0m\u001b[0;34m)\u001b[0m\u001b[0;34m\u001b[0m\u001b[0m\n\u001b[0m\u001b[1;32m     24\u001b[0m         \u001b[0maddr_list\u001b[0m\u001b[0;34m.\u001b[0m\u001b[0mappend\u001b[0m\u001b[0;34m(\u001b[0m\u001b[0mbit_addr\u001b[0m\u001b[0;34m)\u001b[0m\u001b[0;34m\u001b[0m\u001b[0m\n\u001b[1;32m     25\u001b[0m \u001b[0;31m#count_bits(failure_bit)\u001b[0m\u001b[0;34m\u001b[0m\u001b[0;34m\u001b[0m\u001b[0m\n",
      "\u001b[0;31mValueError\u001b[0m: could not convert string to float: '0007a120'"
     ]
    }
   ],
   "source": [
    "f = open(DATA1, 'r')\n",
    "failure_bit=dict()\n",
    "addr_list=list()\n",
    "retention_time=0\n",
    "\n",
    "for line in f:\n",
    "    line=line.split(\" \")\n",
    "    if len(line)==1: #end of file    \n",
    "        if(line[0]==\"end\"):\n",
    "            failure_bit[retention_time]=addr_list\n",
    "            break\n",
    "        else:\n",
    "            continue\n",
    "    elif line[1]==\":\\n\":\n",
    "        if retention_time==0:\n",
    "            retention_time=int(float(line[0]))\n",
    "        else:\n",
    "            failure_bit[retention_time]=addr_list\n",
    "            retention_time=int(float(line[0]))\n",
    "            addr_list=[]\n",
    "    else:\n",
    "#         print(line[0])\n",
    "        bit_addr=int(float(line[0]))*64+int(float(line[1]))\n",
    "        addr_list.append(bit_addr)\n",
    "#count_bits(failure_bit)\n",
    "failure_bit1=failure_bit\n",
    "classify_data1=classify_failure_bits(failure_bit)\n",
    "classify_data.plot\n",
    "display(failure_bit)\n",
    "f.close()"
   ]
  },
  {
   "cell_type": "code",
   "execution_count": 181,
   "metadata": {},
   "outputs": [
    {
     "ename": "ValueError",
     "evalue": "could not convert string to float: '00030d40'",
     "output_type": "error",
     "traceback": [
      "\u001b[0;31m---------------------------------------------------------------------------\u001b[0m",
      "\u001b[0;31mValueError\u001b[0m                                Traceback (most recent call last)",
      "\u001b[0;32m<ipython-input-181-43e018329ece>\u001b[0m in \u001b[0;36m<module>\u001b[0;34m\u001b[0m\n\u001b[1;32m     21\u001b[0m     \u001b[0;32melse\u001b[0m\u001b[0;34m:\u001b[0m\u001b[0;34m\u001b[0m\u001b[0m\n\u001b[1;32m     22\u001b[0m \u001b[0;31m#         print(line[0])\u001b[0m\u001b[0;34m\u001b[0m\u001b[0;34m\u001b[0m\u001b[0m\n\u001b[0;32m---> 23\u001b[0;31m         \u001b[0mbit_addr\u001b[0m\u001b[0;34m=\u001b[0m\u001b[0mint\u001b[0m\u001b[0;34m(\u001b[0m\u001b[0mfloat\u001b[0m\u001b[0;34m(\u001b[0m\u001b[0mline\u001b[0m\u001b[0;34m[\u001b[0m\u001b[0;36m0\u001b[0m\u001b[0;34m]\u001b[0m\u001b[0;34m)\u001b[0m\u001b[0;34m)\u001b[0m\u001b[0;34m*\u001b[0m\u001b[0;36m64\u001b[0m\u001b[0;34m+\u001b[0m\u001b[0mint\u001b[0m\u001b[0;34m(\u001b[0m\u001b[0mfloat\u001b[0m\u001b[0;34m(\u001b[0m\u001b[0mline\u001b[0m\u001b[0;34m[\u001b[0m\u001b[0;36m1\u001b[0m\u001b[0;34m]\u001b[0m\u001b[0;34m)\u001b[0m\u001b[0;34m)\u001b[0m\u001b[0;34m\u001b[0m\u001b[0m\n\u001b[0m\u001b[1;32m     24\u001b[0m         \u001b[0maddr_list\u001b[0m\u001b[0;34m.\u001b[0m\u001b[0mappend\u001b[0m\u001b[0;34m(\u001b[0m\u001b[0mbit_addr\u001b[0m\u001b[0;34m)\u001b[0m\u001b[0;34m\u001b[0m\u001b[0m\n\u001b[1;32m     25\u001b[0m \u001b[0;31m#count_bits(failure_bit)\u001b[0m\u001b[0;34m\u001b[0m\u001b[0;34m\u001b[0m\u001b[0m\n",
      "\u001b[0;31mValueError\u001b[0m: could not convert string to float: '00030d40'"
     ]
    }
   ],
   "source": [
    "f = open(DATA2, 'r')\n",
    "failure_bit=dict()\n",
    "addr_list=list()\n",
    "retention_time=0\n",
    "\n",
    "for line in f:\n",
    "    line=line.split(\" \")\n",
    "    if len(line)==1: #end of file    \n",
    "        if(line[0]==\"end\"):\n",
    "            failure_bit[retention_time]=addr_list\n",
    "            break\n",
    "        else:\n",
    "            continue\n",
    "    elif line[1]==\":\":\n",
    "        if retention_time==0:\n",
    "            retention_time=int(float(line[0]))\n",
    "        else:\n",
    "            failure_bit[retention_time]=addr_list\n",
    "            retention_time=int(float(line[0]))\n",
    "            addr_list=[]\n",
    "    else:\n",
    "#         print(line[0])\n",
    "        bit_addr=int(float(line[0]))*64+int(float(line[1]))\n",
    "        addr_list.append(bit_addr)\n",
    "#count_bits(failure_bit)\n",
    "failure_bit2=failure_bit\n",
    "classify_data2=classify_failure_bits(failure_bit)\n",
    "classify_data.plot\n",
    "display(failure_bit)\n",
    "f.close()"
   ]
  },
  {
   "cell_type": "code",
   "execution_count": 13,
   "metadata": {},
   "outputs": [],
   "source": [
    "def compare_failure_bits(failure_bit1,failure_bit2):\n",
    "    classify_failure_bits=pd.DataFrame()\n",
    "    time_list=list(failure_bit.keys())\n",
    "    time_list.sort()\n",
    "    idx=0\n",
    "    past_key=0\n",
    "    num_classify_data=0\n",
    "    failed_cell1=list()\n",
    "    \n",
    "    for retention_time in time_list:\n",
    "#        print(retention_time ,\":\")\n",
    "        idx=0\n",
    "        unique=0\n",
    "        non_repeat=0\n",
    "        repeat=0\n",
    "        num_failed_cell=len(failed_cell)\n",
    "        for current_fail_addr in failure_bit1[retention_time]:\n",
    "            while(idx<len(failed_cell1) and failed_cell1[idx]<current_fail_addr):\n",
    "                    idx=idx+1\n",
    "            if(idx<len(failed_cell1) and failed_cell1[idx]==current_fail_addr):\n",
    "                repeat=repeat+1\n",
    "            else:\n",
    "                unique=unique+1\n",
    "                failed_cell1.append(current_fail_addr)\n",
    "        failed_cell1.sort()\n",
    "        non_repeat=len(failed_cell)-repeat-unique\n",
    "        \n",
    "        idx=0\n",
    "        unique=0\n",
    "        non_repeat=0\n",
    "        repeat=0\n",
    "        num_failed_cell=len(failed_cell)\n",
    "        for current_fail_addr in failure_bit2[retention_time]:\n",
    "            while(idx<len(failed_cell2) and failed_cell2[idx]<current_fail_addr):\n",
    "                    idx=idx+1\n",
    "            if(idx<len(failed_cell2) and failed_cell2[idx]==current_fail_addr):\n",
    "                repeat=repeat+1\n",
    "            else:\n",
    "                unique=unique+1\n",
    "                failed_cell2.append(current_fail_addr)\n",
    "        failed_cell2.sort()\n",
    "        non_repeat=len(failed_cell2)-repeat-unique\n",
    "        \n",
    "        classify_failure_bits[retention_time]=[repeat,non_repeat,unique]\n",
    "    \n",
    "#         display(failed_cell)\n",
    "#         print(\"repeat :\", repeat)\n",
    "#         print(\"non_repeat:\", non_repeat) #non_repeat=total_cell-repeat-unique\n",
    "#         print(\"unique:\" ,unique)\n",
    "    classify_failure_bits=classify_failure_bits.T\n",
    "    classify_failure_bits=classify_failure_bits.rename(columns={0:'repeat',1:\"non_repeat\",2:\"unique\"});\n",
    "    return classify_failure_bits "
   ]
  },
  {
   "cell_type": "code",
   "execution_count": 14,
   "metadata": {},
   "outputs": [
    {
     "ename": "NameError",
     "evalue": "name 'failure_bit1' is not defined",
     "output_type": "error",
     "traceback": [
      "\u001b[0;31m---------------------------------------------------------------------------\u001b[0m",
      "\u001b[0;31mNameError\u001b[0m                                 Traceback (most recent call last)",
      "\u001b[0;32m<ipython-input-14-e1220c887846>\u001b[0m in \u001b[0;36m<module>\u001b[0;34m\u001b[0m\n\u001b[0;32m----> 1\u001b[0;31m \u001b[0mcompare_failure_bits\u001b[0m\u001b[0;34m(\u001b[0m\u001b[0mfailure_bit1\u001b[0m\u001b[0;34m,\u001b[0m\u001b[0mfailure_bit2\u001b[0m\u001b[0;34m)\u001b[0m\u001b[0;34m\u001b[0m\u001b[0m\n\u001b[0m",
      "\u001b[0;31mNameError\u001b[0m: name 'failure_bit1' is not defined"
     ]
    }
   ],
   "source": [
    "compare_failure_bits(failure_bit1,failure_bit2)"
   ]
  },
  {
   "cell_type": "code",
   "execution_count": null,
   "metadata": {},
   "outputs": [],
   "source": []
  },
  {
   "cell_type": "code",
   "execution_count": null,
   "metadata": {},
   "outputs": [],
   "source": []
  }
 ],
 "metadata": {
  "kernelspec": {
   "display_name": "Python 3",
   "language": "python",
   "name": "python3"
  },
  "language_info": {
   "codemirror_mode": {
    "name": "ipython",
    "version": 3
   },
   "file_extension": ".py",
   "mimetype": "text/x-python",
   "name": "python",
   "nbconvert_exporter": "python",
   "pygments_lexer": "ipython3",
   "version": "3.5.2"
  }
 },
 "nbformat": 4,
 "nbformat_minor": 2
}
