{
 "cells": [
  {
   "cell_type": "code",
   "execution_count": 699,
   "metadata": {},
   "outputs": [],
   "source": [
    "import pandas as pd\n",
    "import subprocess\n",
    "import math\n",
    "import numpy as np\n",
    "import sys\n",
    "import matplotlib as mpl\n",
    "import matplotlib.pyplot as plt\n",
    "from scipy.optimize import curve_fit\n",
    "from IPython.display import display\n",
    "import scipy as sp\n",
    "import scipy.stats"
   ]
  },
  {
   "cell_type": "code",
   "execution_count": 700,
   "metadata": {},
   "outputs": [],
   "source": [
    "def f_cdf(x,mu,sigma):\n",
    "    return scipy.stats.norm(mu,sigma).cdf(x)"
   ]
  },
  {
   "cell_type": "code",
   "execution_count": 808,
   "metadata": {},
   "outputs": [
    {
     "data": {
      "text/plain": [
       "[<matplotlib.lines.Line2D at 0x7f883b6e0358>]"
      ]
     },
     "execution_count": 808,
     "metadata": {},
     "output_type": "execute_result"
    },
    {
     "data": {
      "image/png": "[encoded data removed]",
      "text/plain": [
       "<Figure size 432x288 with 1 Axes>"
      ]
     },
     "metadata": {
      "needs_background": "light"
     },
     "output_type": "display_data"
    }
   ],
   "source": [
    "x_index=np.array(range(0,14,1))\n",
    "expand_x_index=np.array(range(0,31,1))\n",
    "interval=1\n",
    "x_index=x_index*interval\n",
    "fail_bits= np.array([0,0,0,1,4,14,37,85,143,216,328,447,650,867])#1434.4#1797 2216\n",
    "rowhammer_bits=2*(0x1<<30)*8/8\n",
    "y_index=fail_bits/rowhammer_bits\n",
    "popt, pcov = curve_fit(fitting_func, x_index,y_index)\n",
    "mu,sigma = scipy.optimize.curve_fit(f_cdf,x_index,y_index)[0]\n",
    "#print(mu,sigma)\n",
    "# plt.plot(x_index, y_index)\n",
    "# plt.plot(x_index, f_cdf(x_index, mu,sigma), color='red', linewidth=2)\n",
    "\n",
    "expand_y_index=[]\n",
    "\n",
    "for i in range(0,31):\n",
    "     expand_y_index=np.append(expand_y_index,f_cdf(i, mu,sigma))\n",
    "        \n",
    "plt.plot(expand_x_index, expand_y_index)\n",
    "plt.plot(expand_x_index, f_cdf(expand_x_index, mu,sigma), color='red', linewidth=2)"
   ]
  },
  {
   "cell_type": "code",
   "execution_count": 809,
   "metadata": {},
   "outputs": [],
   "source": [
    "# def access_to_rowhammer(num_access): #V1\n",
    "#     #num_rowhammer_RT=[0,0,0,1,4,14,37,85,143,216,328,447,650,867]\n",
    "#     num_rowhammer_RT=[0,0,0,1,4,14,37,85,143,216,328,447,650,867,1434.4,1797,2216,2695,3239,3851.7687165675748 ,\n",
    "# 4537.151010742639 ,\n",
    "# 5299.349709101644 ,\n",
    "# 6142.442146074858 ,\n",
    "# 7070.505656092558 ,\n",
    "# 8087.617573585008 ,\n",
    "# 9197.855232982485 ,\n",
    "# 10405.29596871526 ,\n",
    "# 11714.017115213604 ,\n",
    "# 13128.096006907781]\n",
    "#     rowhammer_bits=2*(0x1<<30)*8/8\n",
    "#     quot=int(num_access/100)\n",
    "#     remain=num_access%4\n",
    "#     #print(num_access,quot,remain,rowhammer_bits)\n",
    "#     if(remain==0): return (num_rowhammer_RT[quot])/rowhammer_bits\n",
    "#     else:\n",
    "#         return (num_rowhammer_RT[quot]*(4-remain)/4+num_rowhammer_RT[quot+1]*(remain)/4)/rowhammer_bits\n",
    "        "
   ]
  },
  {
   "cell_type": "code",
   "execution_count": 810,
   "metadata": {},
   "outputs": [],
   "source": [
    "def access_to_rowhammer(num_access):\n",
    "    return expand_y_index[int(num_access/100)]"
   ]
  },
  {
   "cell_type": "code",
   "execution_count": 811,
   "metadata": {},
   "outputs": [],
   "source": [
    "def cal1(p,n):\n",
    "    #fail more than 1bit in 64 bit\n",
    "    p_fail_64=64*p #approximation 1-(1-p)^64\n",
    "    #print(\"cal1:\",p_fail_64)\n",
    "    return 1-np.exp(-n*p_fail_64/64)\n",
    "\n",
    "def cal2(p,n):\n",
    "    #fail more than 1bit in 64 bit\n",
    "    p_fail_64=1-(1-63*p)*(1+63*p) #approximation 1-((1-p)^63)*(1+63*p)\n",
    "    #print(\"cal2:\",p_fail_64)\n",
    "    return 1-np.exp(-n*p_fail_64/64)"
   ]
  },
  {
   "cell_type": "code",
   "execution_count": 812,
   "metadata": {},
   "outputs": [],
   "source": [
    "#please write dram_size #Gb\n",
    "def p_bitfail_to_p_dramfail(p_fail,dram_size):\n",
    "    p_list=[]\n",
    "    num_dram_bits=int(dram_size*(0x1<<33))\n",
    "    #p_math=1-(1-p_fail)**(dram_size)\n",
    "    #p_list.append(p_math)\n",
    "    max_order=1000\n",
    "    \n",
    "    \n",
    "    p1_approx=cal1(p_fail, num_dram_bits)\n",
    "    #p_list.append(p1_approx)\n",
    "    \n",
    "    p2_approx=cal2(p_fail, num_dram_bits)\n",
    "    #p_list.append(p2_approx)\n",
    "    \n",
    "#     p_approx=0\n",
    "#     for n in range(1,max_order):\n",
    "#         sign=1 if (n%2) else -1\n",
    "#         delta_p=1\n",
    "#         for i in range(1,n+1):\n",
    "#             delta_p=delta_p*mul_p_dram_size/i\n",
    "#         p_approx=p_approx+sign*delta_p\n",
    "#         if(delta_p<0.1**(20)):\n",
    "#             break\n",
    "    return p1_approx,p2_approx\n",
    "    "
   ]
  },
  {
   "cell_type": "code",
   "execution_count": 813,
   "metadata": {},
   "outputs": [
    {
     "name": "stdout",
     "output_type": "stream",
     "text": [
      "\n",
      "start real_data\n",
      "\n",
      "    theshold        p_fail  RHth_NT 1st  RHth_NT 2nd  RHth_LT 1st  \\\n",
      "0        0.0  2.848562e-09          1.0     0.000009     0.624223   \n",
      "1      100.0  4.296941e-09          1.0     0.000020     0.771545   \n",
      "2      200.0  6.451736e-09          1.0     0.000044     0.891043   \n",
      "3      300.0  9.642246e-09          1.0     0.000099     0.963595   \n",
      "4      400.0  1.434384e-08          1.0     0.000219     0.992763   \n",
      "5      500.0  2.123928e-08          1.0     0.000481     0.999323   \n",
      "6      600.0  3.130416e-08          1.0     0.001043     0.999979   \n",
      "7      700.0  4.592548e-08          1.0     0.002245     1.000000   \n",
      "8      800.0  6.706501e-08          1.0     0.004780     1.000000   \n",
      "9      900.0  9.748331e-08          1.0     0.010074     1.000000   \n",
      "10    1000.0  1.410451e-07          1.0     0.020972     1.000000   \n",
      "11    1100.0  2.031330e-07          1.0     0.043010     1.000000   \n",
      "12    1200.0  2.912052e-07          1.0     0.086387     1.000000   \n",
      "13    1300.0  4.155428e-07          1.0     0.168041     1.000000   \n",
      "14    1400.0  5.902441e-07          1.0     0.310080     1.000000   \n",
      "15    1500.0  8.345429e-07          1.0     0.523851     1.000000   \n",
      "16    1600.0  1.174541e-06          1.0     0.770028     1.000000   \n",
      "17    1700.0  1.645479e-06          1.0     0.944130     1.000000   \n",
      "18    1800.0  2.294683e-06          1.0     0.996339     1.000000   \n",
      "19    1900.0  3.185379e-06          1.0     0.999980     1.000000   \n",
      "20    2000.0  4.401590e-06          1.0     1.000000     1.000000   \n",
      "21    2100.0  6.054385e-06          1.0     1.000000     1.000000   \n",
      "22    2200.0  8.289810e-06          1.0     1.000000     1.000000   \n",
      "23    2300.0  1.129888e-05          1.0     1.000000     1.000000   \n",
      "24    2400.0  1.533008e-05          1.0     1.000000     1.000000   \n",
      "25    2500.0  2.070496e-05          1.0     1.000000     1.000000   \n",
      "26    2600.0  2.783731e-05          1.0     1.000000     1.000000   \n",
      "27    2700.0  3.725682e-05          1.0     1.000000     1.000000   \n",
      "28    2800.0  4.963779e-05          1.0     1.000000     1.000000   \n",
      "\n",
      "     RHth_LT 2nd  \n",
      "0   0.000000e+00  \n",
      "1   0.000000e+00  \n",
      "2   0.000000e+00  \n",
      "3   2.980232e-08  \n",
      "4   8.940696e-08  \n",
      "5   1.788139e-07  \n",
      "6   4.470347e-07  \n",
      "7   8.940693e-07  \n",
      "8   1.907347e-06  \n",
      "9   4.023305e-06  \n",
      "10  8.434022e-06  \n",
      "11  1.758322e-05  \n",
      "12  3.614956e-05  \n",
      "13  7.360903e-05  \n",
      "14  1.484641e-04  \n",
      "15  2.967573e-04  \n",
      "16  5.877674e-04  \n",
      "17  1.153251e-03  \n",
      "18  2.241510e-03  \n",
      "19  4.314832e-03  \n",
      "20  8.222563e-03  \n",
      "21  1.550010e-02  \n",
      "22  2.886195e-02  \n",
      "23  5.295300e-02  \n",
      "24  9.530225e-02  \n",
      "25  1.669788e-01  \n",
      "26  2.812520e-01  \n",
      "27  4.465321e-01  \n",
      "28  6.500762e-01  \n",
      "\n",
      " start p_data \n",
      "\n",
      "            p_fail  RHth_NT 1st  RHth_NT 2nd  RHth_LT 1st   RHth_LT 2nd\n",
      "0     1.000000e-09          1.0     0.000001     0.290786  0.000000e+00\n",
      "1     2.000000e-09          1.0     0.000004     0.497015  0.000000e+00\n",
      "2     3.000000e-09          1.0     0.000010     0.643276  0.000000e+00\n",
      "3     4.000000e-09          1.0     0.000017     0.747006  0.000000e+00\n",
      "4     5.000000e-09          1.0     0.000027     0.820573  0.000000e+00\n",
      "5     6.000000e-09          1.0     0.000038     0.872748  2.980232e-08\n",
      "6     7.000000e-09          1.0     0.000052     0.909751  0.000000e+00\n",
      "7     8.000000e-09          1.0     0.000068     0.935994  2.980232e-08\n",
      "8     9.000000e-09          1.0     0.000086     0.954606  2.980232e-08\n",
      "9     1.000000e-08          1.0     0.000107     0.967806  5.960464e-08\n",
      "10    1.100000e-08          1.0     0.000129     0.977168  5.960464e-08\n",
      "11    1.200000e-08          1.0     0.000153     0.983807  8.940696e-08\n",
      "12    1.300000e-08          1.0     0.000180     0.988516  5.960464e-08\n",
      "13    1.400000e-08          1.0     0.000209     0.991855  1.192093e-07\n",
      "14    1.500000e-08          1.0     0.000240     0.994224  8.940696e-08\n",
      "15    1.600000e-08          1.0     0.000273     0.995903  1.490116e-07\n",
      "16    1.700000e-08          1.0     0.000308     0.997095  1.192093e-07\n",
      "17    1.800000e-08          1.0     0.000345     0.997939  1.192093e-07\n",
      "18    1.900000e-08          1.0     0.000385     0.998539  1.490116e-07\n",
      "19    2.000000e-08          1.0     0.000426     0.998964  1.490116e-07\n",
      "20    2.100000e-08          1.0     0.000470     0.999265  1.788139e-07\n",
      "21    2.200000e-08          1.0     0.000516     0.999479  1.788139e-07\n",
      "22    2.300000e-08          1.0     0.000563     0.999630  2.384186e-07\n",
      "23    2.400000e-08          1.0     0.000613     0.999738  2.086162e-07\n",
      "24    2.500000e-08          1.0     0.000666     0.999814  2.980232e-07\n",
      "25    2.600000e-08          1.0     0.000720     0.999868  2.980232e-07\n",
      "26    2.700000e-08          1.0     0.000776     0.999906  3.278255e-07\n",
      "27    2.800000e-08          1.0     0.000835     0.999934  3.278255e-07\n",
      "28    2.900000e-08          1.0     0.000896     0.999953  3.874301e-07\n",
      "29    3.000000e-08          1.0     0.000958     0.999967  3.874301e-07\n",
      "...            ...          ...          ...          ...           ...\n",
      "9969  9.970000e-06          1.0     1.000000     1.000000  4.147679e-02\n",
      "9970  9.971000e-06          1.0     1.000000     1.000000  4.148496e-02\n",
      "9971  9.972000e-06          1.0     1.000000     1.000000  4.149307e-02\n",
      "9972  9.973000e-06          1.0     1.000000     1.000000  4.150118e-02\n",
      "9973  9.974000e-06          1.0     1.000000     1.000000  4.150938e-02\n",
      "9974  9.975000e-06          1.0     1.000000     1.000000  4.151749e-02\n",
      "9975  9.976000e-06          1.0     1.000000     1.000000  4.152566e-02\n",
      "9976  9.977000e-06          1.0     1.000000     1.000000  4.153380e-02\n",
      "9977  9.978000e-06          1.0     1.000000     1.000000  4.154197e-02\n",
      "9978  9.979000e-06          1.0     1.000000     1.000000  4.155008e-02\n",
      "9979  9.980000e-06          1.0     1.000000     1.000000  4.155831e-02\n",
      "9980  9.981000e-06          1.0     1.000000     1.000000  4.156642e-02\n",
      "9981  9.982000e-06          1.0     1.000000     1.000000  4.157462e-02\n",
      "9982  9.983000e-06          1.0     1.000000     1.000000  4.158273e-02\n",
      "9983  9.984000e-06          1.0     1.000000     1.000000  4.159093e-02\n",
      "9984  9.985000e-06          1.0     1.000000     1.000000  4.159904e-02\n",
      "9985  9.986000e-06          1.0     1.000000     1.000000  4.160724e-02\n",
      "9986  9.987000e-06          1.0     1.000000     1.000000  4.161535e-02\n",
      "9987  9.988000e-06          1.0     1.000000     1.000000  4.162349e-02\n",
      "9988  9.989000e-06          1.0     1.000000     1.000000  4.163169e-02\n",
      "9989  9.990000e-06          1.0     1.000000     1.000000  4.163980e-02\n",
      "9990  9.991000e-06          1.0     1.000000     1.000000  4.164800e-02\n",
      "9991  9.992000e-06          1.0     1.000000     1.000000  4.165614e-02\n",
      "9992  9.993000e-06          1.0     1.000000     1.000000  4.166433e-02\n",
      "9993  9.994000e-06          1.0     1.000000     1.000000  4.167244e-02\n",
      "9994  9.995000e-06          1.0     1.000000     1.000000  4.168064e-02\n",
      "9995  9.996000e-06          1.0     1.000000     1.000000  4.168878e-02\n",
      "9996  9.997000e-06          1.0     1.000000     1.000000  4.169701e-02\n",
      "9997  9.998000e-06          1.0     1.000000     1.000000  4.170515e-02\n",
      "9998  9.999000e-06          1.0     1.000000     1.000000  4.171334e-02\n",
      "\n",
      "[9999 rows x 5 columns]\n"
     ]
    }
   ],
   "source": [
    "print(\"\\nstart real_data\\n\")\n",
    "del real_data\n",
    "real_data=pd.DataFrame(columns=[\"theshold\",\"p_fail\", \"RHth_NT 1st\",\"RHth_NT 2nd\",\"RHth_LT 1st\",\"RHth_LT 2nd\"])\n",
    "for i in range(0,2900,100):\n",
    "    p_fail=access_to_rowhammer(i)\n",
    "    p1_RT,p2_RT=p_bitfail_to_p_dramfail(p_fail,2)\n",
    "    p1_LT,p2_LT=p_bitfail_to_p_dramfail(p_fail*0.02,2)\n",
    "    real_data=real_data.append({\"theshold\":i,\"p_fail\":p_fail, \"RHth_NT 1st\":p1_RT,\"RHth_NT 2nd\":p2_RT,\"RHth_LT 1st\":p1_LT,\"RHth_LT 2nd\":p2_LT},ignore_index=True)\n",
    "print(real_data)\n",
    "\n",
    "print(\"\\n start p_data \\n\")\n",
    "p_data=pd.DataFrame(columns=[\"p_fail\", \"RHth_NT 1st\",\"RHth_NT 2nd\",\"RHth_LT 1st\",\"RHth_LT 2nd\"])\n",
    "for i in range(1,10000):\n",
    "    p_fail=i*0.1**(9)\n",
    "    p1,p2=p_bitfail_to_p_dramfail(p_fail,2)\n",
    "    p1_LT,p2_LT=p_bitfail_to_p_dramfail(p_fail*0.02,2)\n",
    "    p_data=p_data.append({\"p_fail\":p_fail, \"RHth_NT 1st\":p1,\"RHth_NT 2nd\":p2,\"RHth_LT 1st\":p1_LT,\"RHth_LT 2nd\":p2_LT},ignore_index=True)\n",
    "print(p_data)\n",
    "    \n",
    "    "
   ]
  },
  {
   "cell_type": "code",
   "execution_count": 814,
   "metadata": {},
   "outputs": [],
   "source": [
    "def graph_scatter(data,x_col,y_col,xlabel,ylabel):\n",
    "    color=[\"Red\",\"Blue\",\"Green\",\"Black\",\"Yellow\",\"Purple\"]\n",
    "    first_graph=1\n",
    "    for i,index in enumerate(y_col):\n",
    "        col_list=data.columns\n",
    "        if(first_graph==1):\n",
    "            first_graph=0\n",
    "            ax1=data.plot(kind='scatter',title=\"RH_th\",x=col_list[x_col],y=col_list[index],c=color[i],label=col_list[index])\n",
    "#             ax1=data.plot(kind='scatter',title=\"Retention time\",x=\"index\",y=columns,c=color[index],label=columns,logx=True)\n",
    "        else:\n",
    "            data.plot(kind='scatter',title=\"RH_th\",x=col_list[x_col],y=col_list[index],c=color[i],label=col_list[index],ax=ax1)\n",
    "#             ax1=data.plot(kind='scatter',title=\"Retention time\",x=\"index\",y=columns,c=color[index],label=columns,logx=True,ax=ax1)\n",
    "#    ax1.set_ylim(1,200000000)\n",
    "    ax1.autoscale(enable=True, axis='both', tight=None)\n",
    "    print(ax1)\n",
    "    plt.xlabel(xlabel)\n",
    "    plt.ylabel(ylabel)"
   ]
  },
  {
   "cell_type": "code",
   "execution_count": 815,
   "metadata": {},
   "outputs": [],
   "source": [
    "def graph_scatter_scale(data,x_col,y_col,xlabel,ylabel,x_scale=(0,0),y_scale=(0,0),xlog=False,ylog=False):\n",
    "    color=[\"Red\",\"Blue\",\"Green\",\"Black\",\"Yellow\",\"Purple\"]\n",
    "    first_graph=1\n",
    "    for i,index in enumerate(y_col):\n",
    "        col_list=data.columns\n",
    "        if(first_graph==1):\n",
    "            first_graph=0\n",
    "#            ax1=data.plot(kind='scatter',title=\"RH_th\",x=col_list[x_col],y=col_list[index],c=color[i],label=col_list[index])\n",
    "            ax1=data.plot(kind='scatter',title=\"RH_th\",x=col_list[x_col],y=col_list[index],c=color[i],label=col_list[index],logx=xlog,logy=ylog)\n",
    "        else:\n",
    "#            data.plot(kind='scatter',title=\"RH_th\",x=col_list[x_col],y=col_list[index],c=color[i],label=col_list[index],ax=ax1)\n",
    "             ax1=data.plot(kind='scatter',title=\"RH_th\",x=col_list[x_col],y=col_list[index],c=color[i],label=col_list[index],logx=xlog,logy=ylog,ax=ax1)\n",
    "    ax1.axhline(y=0.01, color='r', linestyle='--')\n",
    "    ax1.autoscale(enable=True, axis='both', tight=True)\n",
    "    if(x_scale!=(0,0)):\n",
    "        ax1.set_xlim(x_scale)\n",
    "    if(y_scale!=(0,0)):\n",
    "        ax1.set_ylim(y_scale)\n",
    "#    ax1.autoscale(enable=True, axis='both', tight=True)\n",
    "    print(ax1)\n",
    "    plt.xlabel(xlabel)\n",
    "    plt.ylabel(ylabel)"
   ]
  },
  {
   "cell_type": "code",
   "execution_count": 816,
   "metadata": {},
   "outputs": [],
   "source": [
    "def graph_scatter3(data,x_col,xscale,y_col,xlabel,ylabel):\n",
    "    color=[\"Red\",\"Blue\",\"Green\",\"Black\",\"Yellow\",\"Purple\"]\n",
    "    first_graph=1\n",
    "    first,last=y_col\n",
    "    for i,index in enumerate(range(first,last)):\n",
    "        col_list=data.columns\n",
    "        if(first_graph==1):\n",
    "            first_graph=0\n",
    "            ax1=data.plot(kind='scatter',title=\"RH_th\",x=col_list[x_col],y=col_list[index],c=color[i],label=col_list[index])\n",
    "#             ax1=data.plot(kind='scatter',title=\"Retention time\",x=\"index\",y=columns,c=color[index],label=columns,logx=True)\n",
    "        else:\n",
    "            data.plot(kind='scatter',title=\"RH_th\",x=col_list[x_col],y=col_list[index],c=color[i],label=col_list[index],ax=ax1)\n",
    "#             ax1=data.plot(kind='scatter',title=\"Retention time\",x=\"index\",y=columns,c=color[index],label=columns,logx=True,ax=ax1)\n",
    "    ax1.set_ylim(0.1**10,0.1**7)\n",
    "    print(ax1)\n",
    "    plt.xlabel(xlabel)\n",
    "    plt.ylabel(ylabel)"
   ]
  },
  {
   "cell_type": "code",
   "execution_count": 817,
   "metadata": {},
   "outputs": [
    {
     "name": "stdout",
     "output_type": "stream",
     "text": [
      "AxesSubplot(0.125,0.125;0.775x0.755)\n",
      "AxesSubplot(0.125,0.125;0.775x0.755)\n",
      "AxesSubplot(0.125,0.125;0.775x0.755)\n",
      "AxesSubplot(0.125,0.125;0.775x0.755)\n",
      "AxesSubplot(0.125,0.125;0.775x0.755)\n"
     ]
    },
    {
     "data": {
      "image/png": "[encoded data removed]",
      "text/plain": [
       "<Figure size 432x288 with 1 Axes>"
      ]
     },
     "metadata": {
      "needs_background": "light"
     },
     "output_type": "display_data"
    },
    {
     "data": {
      "image/png": "[encoded data removed]",
      "text/plain": [
       "<Figure size 432x288 with 1 Axes>"
      ]
     },
     "metadata": {
      "needs_background": "light"
     },
     "output_type": "display_data"
    },
    {
     "data": {
      "image/png": "[encoded data removed]",
      "text/plain": [
       "<Figure size 432x288 with 1 Axes>"
      ]
     },
     "metadata": {
      "needs_background": "light"
     },
     "output_type": "display_data"
    },
    {
     "data": {
      "image/png": "[encoded data removed]",
      "text/plain": [
       "<Figure size 432x288 with 1 Axes>"
      ]
     },
     "metadata": {
      "needs_background": "light"
     },
     "output_type": "display_data"
    },
    {
     "data": {
      "image/png": "[encoded data removed]",
      "text/plain": [
       "<Figure size 432x288 with 1 Axes>"
      ]
     },
     "metadata": {
      "needs_background": "light"
     },
     "output_type": "display_data"
    }
   ],
   "source": [
    "graph_scatter_scale(real_data,0,[2,4],\"RH_th\",\"Probability of discovery\",y_scale=(0.1**3,1),xlog=False,ylog=True)\n",
    "graph_scatter_scale(real_data,0,[3,5],\"RH_th\",\"Probability of discovery\",y_scale=(0.1**6,1),xlog=False,ylog=True)\n",
    "graph_scatter_scale(p_data,0,[1,3],\"p_fail\",\"Probability of discovery\",(0,0.1**5),xlog=False,ylog=True)\n",
    "graph_scatter_scale(p_data,0,[2,4],\"p_fail\",\"Probability of discovery\",(0,0.1**5),xlog=False,ylog=True)\n",
    "graph_scatter3(real_data,0,0.1**10,(1,2),\"RH_th\",\"Probability bit fail\")"
   ]
  },
  {
   "cell_type": "code",
   "execution_count": 688,
   "metadata": {},
   "outputs": [],
   "source": [
    "para_1=[9709721, 181856 , 2248, 18]\n",
    "para_2=[2632280, 13638 , 47, 0]\n",
    "para_3=[141821,42,0,0]"
   ]
  },
  {
   "cell_type": "code",
   "execution_count": 673,
   "metadata": {},
   "outputs": [],
   "source": [
    "def p_1bit_fail_to_p_fail(p_1bit_fail):\n",
    "    return 1-(1-p_1bit_fail)**(1/64)\n",
    "    #return p_1bit_fail/64"
   ]
  },
  {
   "cell_type": "code",
   "execution_count": 674,
   "metadata": {},
   "outputs": [],
   "source": [
    "def para_eval(para_data,row=False):\n",
    "    num_of_world=(0x1<<29)\n",
    "    p_1bit_fail=para_data[0]/num_of_world\n",
    "    p_fail=p_1bit_fail_to_p_fail(p_1bit_fail)\n",
    "    p_2bit_fail=1-(1-63*p_fail)*(1+63*p_fail)\n",
    "    print(p_2bit_fail*num_of_world)"
   ]
  },
  {
   "cell_type": "code",
   "execution_count": 675,
   "metadata": {},
   "outputs": [
    {
     "name": "stdout",
     "output_type": "stream",
     "text": [
      "173242.8497904539\n",
      "12566.542442798615\n",
      "36.311593532562256\n"
     ]
    }
   ],
   "source": [
    "para_eval(para_1)\n",
    "para_eval(para_2)\n",
    "para_eval(para_3)\n"
   ]
  },
  {
   "cell_type": "code",
   "execution_count": 676,
   "metadata": {},
   "outputs": [],
   "source": [
    "AED_1=[10790,110]\n",
    "AED_2=[14977,123]\n",
    "AED_3=[89272,7385]\n",
    "AED_4=[136008+12450,12450]\n",
    "AED_5=[6042,35]\n",
    "AED_6=[13758,28]"
   ]
  },
  {
   "cell_type": "code",
   "execution_count": 677,
   "metadata": {},
   "outputs": [],
   "source": [
    "def AED_eval(para_data,row=False):\n",
    "    num_of_row=(0x1<<28)\n",
    "    p_1bit_fail=para_data[0]/num_of_row\n",
    "    p_fail=p_1bit_fail_to_p_fail(p_1bit_fail)\n",
    "    #print(p_fail)\n",
    "    p_2bit_fail=1-(1-63*p_fail)*(1+63*p_fail)\n",
    "    print(p_2bit_fail*num_of_row)"
   ]
  },
  {
   "cell_type": "code",
   "execution_count": 678,
   "metadata": {},
   "outputs": [
    {
     "name": "stdout",
     "output_type": "stream",
     "text": [
      "0.4202825427055359\n",
      "0.8097571730613708\n",
      "28.77756178379059\n",
      "79.60218173265457\n",
      "0.13178086280822754\n",
      "0.6833037436008453\n"
     ]
    }
   ],
   "source": [
    "AED_eval(AED_1)\n",
    "AED_eval(AED_2)\n",
    "AED_eval(AED_3)\n",
    "AED_eval(AED_4)\n",
    "AED_eval(AED_5)\n",
    "AED_eval(AED_6)"
   ]
  },
  {
   "cell_type": "code",
   "execution_count": null,
   "metadata": {},
   "outputs": [],
   "source": []
  }
 ],
 "metadata": {
  "kernelspec": {
   "display_name": "Python 3",
   "language": "python",
   "name": "python3"
  },
  "language_info": {
   "codemirror_mode": {
    "name": "ipython",
    "version": 3
   },
   "file_extension": ".py",
   "mimetype": "text/x-python",
   "name": "python",
   "nbconvert_exporter": "python",
   "pygments_lexer": "ipython3",
   "version": "3.5.2"
  }
 },
 "nbformat": 4,
 "nbformat_minor": 2
}
